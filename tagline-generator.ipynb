{
 "cells": [
  {
   "cell_type": "code",
   "execution_count": 2,
   "id": "84159d12-6c63-4d49-b306-7a236bfda3aa",
   "metadata": {
    "tags": []
   },
   "outputs": [
    {
     "name": "stdout",
     "output_type": "stream",
     "text": [
      "Here's a poetic description for a nature-focused campaign, incorporating the word \"nature\":\n",
      "\n",
      "**Option 1 (Short & Sweet):**\n",
      "\n",
      "Unfold your map, breathe in the wild. Let nature guide your journey.\n",
      "\n",
      "**Option 2 (More Evocative):**\n",
      "\n",
      "Where wildflowers bloom and trails unwind, find yourself anew. Embrace the untamed spirit of nature. Your adventure awaits.\n",
      "\n",
      "**Option 3 (Focus on Preservation):**\n",
      "\n",
      "Nature's beauty whispers on the breeze, a fragile song we must protect. Join us in preserving the wild, for generations to come.\n",
      "\n",
      "**Option 4 (Emphasis on Connection):**\n",
      "\n",
      "Beyond the screen, a world unfolds. Connect with nature, feel the earth beneath your feet, and rediscover the rhythm of life.\n"
     ]
    }
   ],
   "source": [
    "from google import genai\n",
    "from google.genai import types\n",
    "import base64\n",
    "\n",
    "def generate():\n",
    "  client = genai.Client(\n",
    "      vertexai=True,\n",
    "      project=\"qwiklabs-gcp-03-b69fe7fd94af\",\n",
    "      location=\"global\",\n",
    "  )\n",
    "\n",
    "  image1 = types.Part.from_uri(\n",
    "      file_uri=\"gs://qwiklabs-gcp-03-b69fe7fd94af-labconfig-bucket/cymbal-product-image.png\",\n",
    "      mime_type=\"image/png\",\n",
    "  )\n",
    "\n",
    "  model = \"gemini-2.0-flash-001\"\n",
    "  contents = [\n",
    "    types.Content(\n",
    "      role=\"user\",\n",
    "      parts=[\n",
    "        image1,\n",
    "        types.Part.from_text(text=\"\"\"A poetic description for a nature-focused campaign i want you to include the word nature.\"\"\")\n",
    "      ]\n",
    "    )\n",
    "  ]\n",
    "  generate_content_config = types.GenerateContentConfig(\n",
    "    temperature = 0.5,\n",
    "    top_p = 0.95,\n",
    "    max_output_tokens = 2453,\n",
    "    response_modalities = [\"TEXT\"],\n",
    "    safety_settings = [types.SafetySetting(\n",
    "      category=\"HARM_CATEGORY_HATE_SPEECH\",\n",
    "      threshold=\"OFF\"\n",
    "    ),types.SafetySetting(\n",
    "      category=\"HARM_CATEGORY_DANGEROUS_CONTENT\",\n",
    "      threshold=\"OFF\"\n",
    "    ),types.SafetySetting(\n",
    "      category=\"HARM_CATEGORY_SEXUALLY_EXPLICIT\",\n",
    "      threshold=\"OFF\"\n",
    "    ),types.SafetySetting(\n",
    "      category=\"HARM_CATEGORY_HARASSMENT\",\n",
    "      threshold=\"OFF\"\n",
    "    )],\n",
    "  )\n",
    "\n",
    "  for chunk in client.models.generate_content_stream(\n",
    "    model = model,\n",
    "    contents = contents,\n",
    "    config = generate_content_config,\n",
    "    ):\n",
    "    print(chunk.text, end=\"\")\n",
    "\n",
    "generate()"
   ]
  },
  {
   "cell_type": "code",
   "execution_count": null,
   "id": "fdda06a4-3f4e-4b9f-b878-dc575b681f1c",
   "metadata": {},
   "outputs": [],
   "source": []
  }
 ],
 "metadata": {
  "environment": {
   "kernel": "conda-base-py",
   "name": "workbench-notebooks.m128",
   "type": "gcloud",
   "uri": "us-docker.pkg.dev/deeplearning-platform-release/gcr.io/workbench-notebooks:m128"
  },
  "kernelspec": {
   "display_name": "Python 3 (ipykernel) (Local)",
   "language": "python",
   "name": "conda-base-py"
  },
  "language_info": {
   "codemirror_mode": {
    "name": "ipython",
    "version": 3
   },
   "file_extension": ".py",
   "mimetype": "text/x-python",
   "name": "python",
   "nbconvert_exporter": "python",
   "pygments_lexer": "ipython3",
   "version": "3.10.16"
  }
 },
 "nbformat": 4,
 "nbformat_minor": 5
}
